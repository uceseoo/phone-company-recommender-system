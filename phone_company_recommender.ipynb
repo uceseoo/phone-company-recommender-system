{
 "cells": [
  {
   "cell_type": "code",
   "execution_count": null,
   "metadata": {},
   "outputs": [],
   "source": [
    "# Import necessary libraries\n",
    "import pandas as pd\n",
    "import numpy as np\n",
    "from sklearn.preprocessing import StandardScaler\n",
    "from sklearn.cluster import KMeans\n",
    "\n",
    "# Load customer data\n",
    "customers = pd.read_csv('customer_data.csv')\n",
    "\n",
    "# Select relevant features for clustering\n",
    "features = ['data_allowance', 'international_calling', 'mobile_hotspot']\n",
    "X = customers[features]\n",
    "\n",
    "# Standardize the data\n",
    "scaler = StandardScaler()\n",
    "X_scaled = scaler.fit_transform(X)\n",
    "\n",
    "# Use K-Means clustering to identify customer segments\n",
    "kmeans = KMeans(n_clusters=3)\n",
    "clusters = kmeans.fit_predict(X_scaled)\n",
    "\n",
    "# Add cluster labels to the customer data\n",
    "customers['cluster'] = clusters\n",
    "\n",
    "# Use the cluster labels to make personalized recommendations\n",
    "for customer_id, cluster in customers[['customer_id', 'cluster']].values:\n",
    "  # Get the customer's current plan data\n",
    "  current_plan = customers[customers['customer_id'] == customer_id][['data_allowance', 'international_calling', 'mobile_hotspot']].values[0]\n",
    "\n",
    "  # Select other customers in the same cluster\n",
    "  similar_customers = customers[customers['cluster'] == cluster]\n",
    "\n",
    "  # Calculate the average plan data for the similar customers\n",
    "  average_plan = similar_customers[['data_allowance', 'international_calling', 'mobile_hotspot']].mean().values\n",
    "\n",
    "  # Calculate the difference between the customer's current plan and the average plan\n",
    "  plan_difference = current_plan - average_plan\n",
    "\n",
    "  # If the customer's plan is below the average for their cluster, recommend a new plan\n",
    "  if np.all(plan_difference < 0):\n",
    "    recommended_plan = average_plan + plan_difference\n",
    "    print(f'Customer {customer_id} should consider switching to a plan with:')\n",
    "    print(f'Data allowance: {recommended_plan[0]:.0f}')\n",
    "    print(f'International calling: {recommended_plan[1]:.0f}')\n",
    "    print(f'Mobile hotspot: {recommended_plan[2]:.0f}')\n"
   ]
  }
 ],
 "metadata": {
  "language_info": {
   "name": "python"
  },
  "orig_nbformat": 4
 },
 "nbformat": 4,
 "nbformat_minor": 2
}
